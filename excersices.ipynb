{
 "cells": [
  {
   "cell_type": "code",
   "execution_count": 10,
   "metadata": {},
   "outputs": [],
   "source": [
    "import torch"
   ]
  },
  {
   "cell_type": "markdown",
   "metadata": {},
   "source": [
    "Question-2"
   ]
  },
  {
   "cell_type": "code",
   "execution_count": 11,
   "metadata": {},
   "outputs": [
    {
     "data": {
      "text/plain": [
       "tensor([[0.1952, 0.0050, 0.3068, 0.1165, 0.9103, 0.6440, 0.7071],\n",
       "        [0.6581, 0.4913, 0.8913, 0.1447, 0.5315, 0.1587, 0.6542],\n",
       "        [0.3278, 0.6532, 0.3958, 0.9147, 0.2036, 0.2018, 0.2018],\n",
       "        [0.9497, 0.6666, 0.9811, 0.0874, 0.0041, 0.1088, 0.1637],\n",
       "        [0.7025, 0.6790, 0.9155, 0.2418, 0.1591, 0.7653, 0.2979],\n",
       "        [0.8035, 0.3813, 0.7860, 0.1115, 0.2477, 0.6524, 0.6057],\n",
       "        [0.3725, 0.7980, 0.8399, 0.1374, 0.2331, 0.9578, 0.3313]])"
      ]
     },
     "execution_count": 11,
     "metadata": {},
     "output_type": "execute_result"
    }
   ],
   "source": [
    "random_tensor = torch.rand(7,7)\n",
    "random_tensor"
   ]
  },
  {
   "cell_type": "markdown",
   "metadata": {},
   "source": [
    "#3"
   ]
  },
  {
   "cell_type": "code",
   "execution_count": 12,
   "metadata": {},
   "outputs": [
    {
     "name": "stdout",
     "output_type": "stream",
     "text": [
      "tensor([[0.3227, 0.0162, 0.2137, 0.6249, 0.4340, 0.1371, 0.5117]])\n",
      "tensor([[0.3227],\n",
      "        [0.0162],\n",
      "        [0.2137],\n",
      "        [0.6249],\n",
      "        [0.4340],\n",
      "        [0.1371],\n",
      "        [0.5117]])\n"
     ]
    },
    {
     "data": {
      "text/plain": [
       "tensor([[1.0096]])"
      ]
     },
     "execution_count": 12,
     "metadata": {},
     "output_type": "execute_result"
    }
   ],
   "source": [
    "tensor1 = torch.rand(1,7)\n",
    "tensor2 = torch.transpose(tensor1,0,1) # transpose\n",
    "\n",
    "print(tensor1)\n",
    "print(tensor2)\n",
    "torch.matmul(tensor1, tensor2) # matrix multiplication"
   ]
  },
  {
   "cell_type": "markdown",
   "metadata": {},
   "source": [
    "#4.1"
   ]
  },
  {
   "cell_type": "code",
   "execution_count": 13,
   "metadata": {},
   "outputs": [
    {
     "data": {
      "text/plain": [
       "tensor([[0.1585, 0.0758, 0.2247, 0.0624, 0.1816, 0.9998, 0.5944],\n",
       "        [0.6541, 0.0337, 0.1716, 0.3336, 0.5782, 0.0600, 0.2846],\n",
       "        [0.2007, 0.5014, 0.3139, 0.4654, 0.1612, 0.1568, 0.2083],\n",
       "        [0.3289, 0.1054, 0.9192, 0.4008, 0.9302, 0.6558, 0.0766],\n",
       "        [0.8460, 0.3624, 0.3083, 0.0850, 0.0029, 0.6431, 0.3908],\n",
       "        [0.6947, 0.0897, 0.8712, 0.1330, 0.4137, 0.6044, 0.7581],\n",
       "        [0.9037, 0.9555, 0.1035, 0.6258, 0.2849, 0.4452, 0.1258]])"
      ]
     },
     "execution_count": 13,
     "metadata": {},
     "output_type": "execute_result"
    }
   ],
   "source": [
    "RANDOM_SEED = 42\n",
    "torch.rand(7,7)"
   ]
  },
  {
   "cell_type": "markdown",
   "metadata": {},
   "source": [
    "#4.2"
   ]
  },
  {
   "cell_type": "code",
   "execution_count": 14,
   "metadata": {},
   "outputs": [
    {
     "data": {
      "text/plain": [
       "tensor([[3.2618]])"
      ]
     },
     "execution_count": 14,
     "metadata": {},
     "output_type": "execute_result"
    }
   ],
   "source": [
    "RANDOM_SEED = 42\n",
    "\n",
    "torch.manual_seed(RANDOM_SEED)\n",
    "tensor1 = torch.rand(1,7)\n",
    "\n",
    "torch.manual_seed(RANDOM_SEED)\n",
    "tensor2= torch.transpose(tensor1,0,1)\n",
    "\n",
    "torch.matmul(tensor1, tensor2)"
   ]
  },
  {
   "cell_type": "markdown",
   "metadata": {},
   "source": [
    "#10"
   ]
  },
  {
   "cell_type": "code",
   "execution_count": 16,
   "metadata": {},
   "outputs": [
    {
     "name": "stdout",
     "output_type": "stream",
     "text": [
      "tensor1 matrix: tensor([[[[0.5349, 0.1988, 0.6592, 0.6569, 0.2328, 0.4251, 0.2071, 0.6297,\n",
      "           0.3653, 0.8513]]]])\n",
      "tensor1 shape: torch.Size([1, 1, 1, 10])\n",
      "tensor2 matrix: tensor([0.5349, 0.1988, 0.6592, 0.6569, 0.2328, 0.4251, 0.2071, 0.6297, 0.3653,\n",
      "        0.8513])\n",
      "tensor2 shape: torch.Size([10])\n"
     ]
    }
   ],
   "source": [
    "RANDOM_SEED = 7\n",
    "\n",
    "torch.manual_seed(RANDOM_SEED)\n",
    "tensor1 = torch.rand(1,1,1,10)\n",
    "\n",
    "torch.manual_seed(RANDOM_SEED)\n",
    "tensor2 = torch.squeeze(tensor1)\n",
    "\n",
    "print(f'tensor1 matrix: {tensor1}')\n",
    "print(f'tensor1 shape: {tensor1.shape}')\n",
    "print(f'tensor2 matrix: {tensor2}')\n",
    "print(f'tensor2 shape: {tensor2.shape}')\n",
    "\n"
   ]
  },
  {
   "cell_type": "code",
   "execution_count": null,
   "metadata": {},
   "outputs": [],
   "source": []
  }
 ],
 "metadata": {
  "kernelspec": {
   "display_name": "Python 3",
   "language": "python",
   "name": "python3"
  },
  "language_info": {
   "codemirror_mode": {
    "name": "ipython",
    "version": 3
   },
   "file_extension": ".py",
   "mimetype": "text/x-python",
   "name": "python",
   "nbconvert_exporter": "python",
   "pygments_lexer": "ipython3",
   "version": "3.11.6"
  }
 },
 "nbformat": 4,
 "nbformat_minor": 2
}
